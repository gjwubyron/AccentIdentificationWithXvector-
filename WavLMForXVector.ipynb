{
  "nbformat": 4,
  "nbformat_minor": 0,
  "metadata": {
    "colab": {
      "provenance": [],
      "authorship_tag": "ABX9TyMK2UMP6pZ+G4D2LaUEsce9",
      "include_colab_link": true
    },
    "kernelspec": {
      "name": "python3",
      "display_name": "Python 3"
    },
    "language_info": {
      "name": "python"
    }
  },
  "cells": [
    {
      "cell_type": "markdown",
      "metadata": {
        "id": "view-in-github",
        "colab_type": "text"
      },
      "source": [
        "<a href=\"https://colab.research.google.com/github/gjwubyron/AccentIdentificationWithXvector-/blob/main/WavLMForXVector.ipynb\" target=\"_parent\"><img src=\"https://colab.research.google.com/assets/colab-badge.svg\" alt=\"Open In Colab\"/></a>"
      ]
    },
    {
      "cell_type": "markdown",
      "source": [
        "# Setup\n"
      ],
      "metadata": {
        "id": "vWlpzdbUSbwR"
      }
    },
    {
      "cell_type": "code",
      "source": [
        "from google.colab import drive\n",
        "drive.mount('/content/drive')"
      ],
      "metadata": {
        "colab": {
          "base_uri": "https://localhost:8080/"
        },
        "id": "BD4X-wrrF3EL",
        "outputId": "c0e84450-6d4c-4b0f-87c5-c4c24cc9375f"
      },
      "execution_count": 1,
      "outputs": [
        {
          "output_type": "stream",
          "name": "stdout",
          "text": [
            "Mounted at /content/drive\n"
          ]
        }
      ]
    },
    {
      "cell_type": "code",
      "metadata": {
        "id": "nEKDAy2bCGFM"
      },
      "source": [
        "!mkdir -p /content/data\n",
        "\n",
        "!unzip -q /content/drive/MyDrive/VoiceAnalysis/wave.zip -d /content/data/"
      ],
      "execution_count": 2,
      "outputs": []
    },
    {
      "cell_type": "code",
      "execution_count": 4,
      "metadata": {
        "id": "mf1Sb5D-obQs",
        "colab": {
          "base_uri": "https://localhost:8080/"
        },
        "outputId": "fed8b092-6983-4df6-add4-2a03a668f7dc"
      },
      "outputs": [
        {
          "output_type": "stream",
          "name": "stdout",
          "text": [
            "Looking in indexes: https://pypi.org/simple, https://us-python.pkg.dev/colab-wheels/public/simple/\n",
            "Collecting git+https://github.com/huggingface/datasets.git\n",
            "  Cloning https://github.com/huggingface/datasets.git to /tmp/pip-req-build-mu9ji_pn\n",
            "  Running command git clone --filter=blob:none --quiet https://github.com/huggingface/datasets.git /tmp/pip-req-build-mu9ji_pn\n",
            "  Resolved https://github.com/huggingface/datasets.git to commit e508cc29bcc552aab7c6c64b1ddf8527f175ca56\n",
            "  Installing build dependencies ... \u001b[?25l\u001b[?25hdone\n",
            "  Getting requirements to build wheel ... \u001b[?25l\u001b[?25hdone\n",
            "  Preparing metadata (pyproject.toml) ... \u001b[?25l\u001b[?25hdone\n",
            "Requirement already satisfied: requests>=2.19.0 in /usr/local/lib/python3.8/dist-packages (from datasets==2.8.1.dev0) (2.25.1)\n",
            "Requirement already satisfied: xxhash in /usr/local/lib/python3.8/dist-packages (from datasets==2.8.1.dev0) (3.2.0)\n",
            "Requirement already satisfied: fsspec[http]>=2021.11.1 in /usr/local/lib/python3.8/dist-packages (from datasets==2.8.1.dev0) (2022.11.0)\n",
            "Requirement already satisfied: responses<0.19 in /usr/local/lib/python3.8/dist-packages (from datasets==2.8.1.dev0) (0.18.0)\n",
            "Requirement already satisfied: dill<0.3.7 in /usr/local/lib/python3.8/dist-packages (from datasets==2.8.1.dev0) (0.3.6)\n",
            "Requirement already satisfied: pandas in /usr/local/lib/python3.8/dist-packages (from datasets==2.8.1.dev0) (1.3.5)\n",
            "Requirement already satisfied: numpy>=1.17 in /usr/local/lib/python3.8/dist-packages (from datasets==2.8.1.dev0) (1.21.6)\n",
            "Requirement already satisfied: tqdm>=4.62.1 in /usr/local/lib/python3.8/dist-packages (from datasets==2.8.1.dev0) (4.64.1)\n",
            "Requirement already satisfied: huggingface-hub<1.0.0,>=0.2.0 in /usr/local/lib/python3.8/dist-packages (from datasets==2.8.1.dev0) (0.11.1)\n",
            "Requirement already satisfied: packaging in /usr/local/lib/python3.8/dist-packages (from datasets==2.8.1.dev0) (21.3)\n",
            "Requirement already satisfied: pyarrow>=6.0.0 in /usr/local/lib/python3.8/dist-packages (from datasets==2.8.1.dev0) (9.0.0)\n",
            "Requirement already satisfied: multiprocess in /usr/local/lib/python3.8/dist-packages (from datasets==2.8.1.dev0) (0.70.14)\n",
            "Requirement already satisfied: aiohttp in /usr/local/lib/python3.8/dist-packages (from datasets==2.8.1.dev0) (3.8.3)\n",
            "Requirement already satisfied: pyyaml>=5.1 in /usr/local/lib/python3.8/dist-packages (from datasets==2.8.1.dev0) (6.0)\n",
            "Requirement already satisfied: yarl<2.0,>=1.0 in /usr/local/lib/python3.8/dist-packages (from aiohttp->datasets==2.8.1.dev0) (1.8.2)\n",
            "Requirement already satisfied: aiosignal>=1.1.2 in /usr/local/lib/python3.8/dist-packages (from aiohttp->datasets==2.8.1.dev0) (1.3.1)\n",
            "Requirement already satisfied: async-timeout<5.0,>=4.0.0a3 in /usr/local/lib/python3.8/dist-packages (from aiohttp->datasets==2.8.1.dev0) (4.0.2)\n",
            "Requirement already satisfied: multidict<7.0,>=4.5 in /usr/local/lib/python3.8/dist-packages (from aiohttp->datasets==2.8.1.dev0) (6.0.3)\n",
            "Requirement already satisfied: attrs>=17.3.0 in /usr/local/lib/python3.8/dist-packages (from aiohttp->datasets==2.8.1.dev0) (22.2.0)\n",
            "Requirement already satisfied: frozenlist>=1.1.1 in /usr/local/lib/python3.8/dist-packages (from aiohttp->datasets==2.8.1.dev0) (1.3.3)\n",
            "Requirement already satisfied: charset-normalizer<3.0,>=2.0 in /usr/local/lib/python3.8/dist-packages (from aiohttp->datasets==2.8.1.dev0) (2.1.1)\n",
            "Requirement already satisfied: typing-extensions>=3.7.4.3 in /usr/local/lib/python3.8/dist-packages (from huggingface-hub<1.0.0,>=0.2.0->datasets==2.8.1.dev0) (4.4.0)\n",
            "Requirement already satisfied: filelock in /usr/local/lib/python3.8/dist-packages (from huggingface-hub<1.0.0,>=0.2.0->datasets==2.8.1.dev0) (3.8.2)\n",
            "Requirement already satisfied: pyparsing!=3.0.5,>=2.0.2 in /usr/local/lib/python3.8/dist-packages (from packaging->datasets==2.8.1.dev0) (3.0.9)\n",
            "Requirement already satisfied: urllib3<1.27,>=1.21.1 in /usr/local/lib/python3.8/dist-packages (from requests>=2.19.0->datasets==2.8.1.dev0) (1.26.13)\n",
            "Requirement already satisfied: idna<3,>=2.5 in /usr/local/lib/python3.8/dist-packages (from requests>=2.19.0->datasets==2.8.1.dev0) (2.10)\n",
            "Requirement already satisfied: certifi>=2017.4.17 in /usr/local/lib/python3.8/dist-packages (from requests>=2.19.0->datasets==2.8.1.dev0) (2022.12.7)\n",
            "Requirement already satisfied: chardet<5,>=3.0.2 in /usr/local/lib/python3.8/dist-packages (from requests>=2.19.0->datasets==2.8.1.dev0) (4.0.0)\n",
            "Requirement already satisfied: python-dateutil>=2.7.3 in /usr/local/lib/python3.8/dist-packages (from pandas->datasets==2.8.1.dev0) (2.8.2)\n",
            "Requirement already satisfied: pytz>=2017.3 in /usr/local/lib/python3.8/dist-packages (from pandas->datasets==2.8.1.dev0) (2022.7)\n",
            "Requirement already satisfied: six>=1.5 in /usr/local/lib/python3.8/dist-packages (from python-dateutil>=2.7.3->pandas->datasets==2.8.1.dev0) (1.15.0)\n",
            "Looking in indexes: https://pypi.org/simple, https://us-python.pkg.dev/colab-wheels/public/simple/\n",
            "Collecting git+https://github.com/huggingface/transformers.git\n",
            "  Cloning https://github.com/huggingface/transformers.git to /tmp/pip-req-build-m01vluxj\n",
            "  Running command git clone --filter=blob:none --quiet https://github.com/huggingface/transformers.git /tmp/pip-req-build-m01vluxj\n",
            "  Resolved https://github.com/huggingface/transformers.git to commit 8fb4d0e4b46282d96386c229b9fb18bf7c80c25a\n",
            "  Installing build dependencies ... \u001b[?25l\u001b[?25hdone\n",
            "  Getting requirements to build wheel ... \u001b[?25l\u001b[?25hdone\n",
            "  Preparing metadata (pyproject.toml) ... \u001b[?25l\u001b[?25hdone\n",
            "Requirement already satisfied: tqdm>=4.27 in /usr/local/lib/python3.8/dist-packages (from transformers==4.26.0.dev0) (4.64.1)\n",
            "Requirement already satisfied: regex!=2019.12.17 in /usr/local/lib/python3.8/dist-packages (from transformers==4.26.0.dev0) (2022.6.2)\n",
            "Requirement already satisfied: pyyaml>=5.1 in /usr/local/lib/python3.8/dist-packages (from transformers==4.26.0.dev0) (6.0)\n",
            "Requirement already satisfied: numpy>=1.17 in /usr/local/lib/python3.8/dist-packages (from transformers==4.26.0.dev0) (1.21.6)\n",
            "Requirement already satisfied: packaging>=20.0 in /usr/local/lib/python3.8/dist-packages (from transformers==4.26.0.dev0) (21.3)\n",
            "Requirement already satisfied: filelock in /usr/local/lib/python3.8/dist-packages (from transformers==4.26.0.dev0) (3.8.2)\n",
            "Requirement already satisfied: huggingface-hub<1.0,>=0.10.0 in /usr/local/lib/python3.8/dist-packages (from transformers==4.26.0.dev0) (0.11.1)\n",
            "Requirement already satisfied: tokenizers!=0.11.3,<0.14,>=0.11.1 in /usr/local/lib/python3.8/dist-packages (from transformers==4.26.0.dev0) (0.13.2)\n",
            "Requirement already satisfied: requests in /usr/local/lib/python3.8/dist-packages (from transformers==4.26.0.dev0) (2.25.1)\n",
            "Requirement already satisfied: typing-extensions>=3.7.4.3 in /usr/local/lib/python3.8/dist-packages (from huggingface-hub<1.0,>=0.10.0->transformers==4.26.0.dev0) (4.4.0)\n",
            "Requirement already satisfied: pyparsing!=3.0.5,>=2.0.2 in /usr/local/lib/python3.8/dist-packages (from packaging>=20.0->transformers==4.26.0.dev0) (3.0.9)\n",
            "Requirement already satisfied: chardet<5,>=3.0.2 in /usr/local/lib/python3.8/dist-packages (from requests->transformers==4.26.0.dev0) (4.0.0)\n",
            "Requirement already satisfied: idna<3,>=2.5 in /usr/local/lib/python3.8/dist-packages (from requests->transformers==4.26.0.dev0) (2.10)\n",
            "Requirement already satisfied: urllib3<1.27,>=1.21.1 in /usr/local/lib/python3.8/dist-packages (from requests->transformers==4.26.0.dev0) (1.26.13)\n",
            "Requirement already satisfied: certifi>=2017.4.17 in /usr/local/lib/python3.8/dist-packages (from requests->transformers==4.26.0.dev0) (2022.12.7)\n",
            "Looking in indexes: https://pypi.org/simple, https://us-python.pkg.dev/colab-wheels/public/simple/\n",
            "Requirement already satisfied: torchaudio in /usr/local/lib/python3.8/dist-packages (0.13.0+cu116)\n",
            "Requirement already satisfied: torch==1.13.0 in /usr/local/lib/python3.8/dist-packages (from torchaudio) (1.13.0+cu116)\n",
            "Requirement already satisfied: typing-extensions in /usr/local/lib/python3.8/dist-packages (from torch==1.13.0->torchaudio) (4.4.0)\n"
          ]
        }
      ],
      "source": [
        "!pip install git+https://github.com/huggingface/datasets.git\n",
        "!pip install git+https://github.com/huggingface/transformers.git\n",
        "!pip install torchaudio"
      ]
    },
    {
      "cell_type": "code",
      "metadata": {
        "id": "pFSqZ0jwCMSv"
      },
      "source": [
        "import numpy as np\n",
        "import pandas as pd\n",
        "\n",
        "from pathlib import Path\n",
        "from tqdm import tqdm\n",
        "\n",
        "import torchaudio\n",
        "import librosa\n",
        "\n",
        "import os\n",
        "import sys"
      ],
      "execution_count": 2,
      "outputs": []
    },
    {
      "cell_type": "markdown",
      "source": [
        "# Prepare Data"
      ],
      "metadata": {
        "id": "2WkAC9BLSjQ_"
      }
    },
    {
      "cell_type": "code",
      "metadata": {
        "colab": {
          "base_uri": "https://localhost:8080/"
        },
        "id": "7MXAESg_Dqr6",
        "outputId": "fe9e78f4-743e-4215-cf2b-4b38a3b538b3"
      },
      "source": [
        "data = []\n",
        "\n",
        "for path in tqdm(Path(\"/content/data/wave\").glob(\"**/*.wav\")):\n",
        "    name = str(path).split('/')[-1].split('.')[0]\n",
        "    label = str(path).split('/')[-1].split('_')[0]\n",
        "    \n",
        "    try:\n",
        "        # There are some broken files\n",
        "        speech, sr = torchaudio.load(path)\n",
        "        speech = speech[0].numpy().squeeze()\n",
        "        speech = librosa.resample(np.asarray(speech), sr, 16_000)\n",
        "\n",
        "        data.append({\n",
        "            \"name\": name,\n",
        "            \"path\": path,\n",
        "            \"accent\": label,\n",
        "            \"array\": speech\n",
        "        })\n",
        "    except Exception as e:\n",
        "        # print(str(path), e)\n",
        "        pass\n",
        "\n",
        "    # break"
      ],
      "execution_count": 6,
      "outputs": [
        {
          "output_type": "stream",
          "name": "stderr",
          "text": [
            "143it [00:23,  6.04it/s]\n"
          ]
        }
      ]
    },
    {
      "cell_type": "code",
      "metadata": {
        "colab": {
          "base_uri": "https://localhost:8080/",
          "height": 206
        },
        "id": "10b89ZpLDqx9",
        "outputId": "e5996b93-bf0a-445f-dbe6-442ed4767bcf"
      },
      "source": [
        "df = pd.DataFrame(data)\n",
        "df.head()"
      ],
      "execution_count": 32,
      "outputs": [
        {
          "output_type": "execute_result",
          "data": {
            "text/plain": [
              "            name                                  path    accent  \\\n",
              "0     other_5_05     /content/data/wave/other_5_05.wav     other   \n",
              "1     other_6_04     /content/data/wave/other_6_04.wav     other   \n",
              "2  mandarin_4_12  /content/data/wave/mandarin_4_12.wav  mandarin   \n",
              "3     other_3_04     /content/data/wave/other_3_04.wav     other   \n",
              "4  mandarin_1_04  /content/data/wave/mandarin_1_04.wav  mandarin   \n",
              "\n",
              "                                               array  \n",
              "0  [8.623918e-06, 1.859234e-05, 4.18432e-05, 2.49...  \n",
              "1  [-1.5027216e-06, -1.3547544e-05, 3.6800735e-05...  \n",
              "2  [1.2253561e-05, 1.9428297e-05, 3.6047662e-05, ...  \n",
              "3  [-2.9818188e-05, -5.4524502e-05, -4.4173456e-0...  \n",
              "4  [-3.2943663e-05, 2.0337946e-05, -1.3821257e-06...  "
            ],
            "text/html": [
              "\n",
              "  <div id=\"df-711a40ad-5c58-44a2-99e2-04845cbcb25c\">\n",
              "    <div class=\"colab-df-container\">\n",
              "      <div>\n",
              "<style scoped>\n",
              "    .dataframe tbody tr th:only-of-type {\n",
              "        vertical-align: middle;\n",
              "    }\n",
              "\n",
              "    .dataframe tbody tr th {\n",
              "        vertical-align: top;\n",
              "    }\n",
              "\n",
              "    .dataframe thead th {\n",
              "        text-align: right;\n",
              "    }\n",
              "</style>\n",
              "<table border=\"1\" class=\"dataframe\">\n",
              "  <thead>\n",
              "    <tr style=\"text-align: right;\">\n",
              "      <th></th>\n",
              "      <th>name</th>\n",
              "      <th>path</th>\n",
              "      <th>accent</th>\n",
              "      <th>array</th>\n",
              "    </tr>\n",
              "  </thead>\n",
              "  <tbody>\n",
              "    <tr>\n",
              "      <th>0</th>\n",
              "      <td>other_5_05</td>\n",
              "      <td>/content/data/wave/other_5_05.wav</td>\n",
              "      <td>other</td>\n",
              "      <td>[8.623918e-06, 1.859234e-05, 4.18432e-05, 2.49...</td>\n",
              "    </tr>\n",
              "    <tr>\n",
              "      <th>1</th>\n",
              "      <td>other_6_04</td>\n",
              "      <td>/content/data/wave/other_6_04.wav</td>\n",
              "      <td>other</td>\n",
              "      <td>[-1.5027216e-06, -1.3547544e-05, 3.6800735e-05...</td>\n",
              "    </tr>\n",
              "    <tr>\n",
              "      <th>2</th>\n",
              "      <td>mandarin_4_12</td>\n",
              "      <td>/content/data/wave/mandarin_4_12.wav</td>\n",
              "      <td>mandarin</td>\n",
              "      <td>[1.2253561e-05, 1.9428297e-05, 3.6047662e-05, ...</td>\n",
              "    </tr>\n",
              "    <tr>\n",
              "      <th>3</th>\n",
              "      <td>other_3_04</td>\n",
              "      <td>/content/data/wave/other_3_04.wav</td>\n",
              "      <td>other</td>\n",
              "      <td>[-2.9818188e-05, -5.4524502e-05, -4.4173456e-0...</td>\n",
              "    </tr>\n",
              "    <tr>\n",
              "      <th>4</th>\n",
              "      <td>mandarin_1_04</td>\n",
              "      <td>/content/data/wave/mandarin_1_04.wav</td>\n",
              "      <td>mandarin</td>\n",
              "      <td>[-3.2943663e-05, 2.0337946e-05, -1.3821257e-06...</td>\n",
              "    </tr>\n",
              "  </tbody>\n",
              "</table>\n",
              "</div>\n",
              "      <button class=\"colab-df-convert\" onclick=\"convertToInteractive('df-711a40ad-5c58-44a2-99e2-04845cbcb25c')\"\n",
              "              title=\"Convert this dataframe to an interactive table.\"\n",
              "              style=\"display:none;\">\n",
              "        \n",
              "  <svg xmlns=\"http://www.w3.org/2000/svg\" height=\"24px\"viewBox=\"0 0 24 24\"\n",
              "       width=\"24px\">\n",
              "    <path d=\"M0 0h24v24H0V0z\" fill=\"none\"/>\n",
              "    <path d=\"M18.56 5.44l.94 2.06.94-2.06 2.06-.94-2.06-.94-.94-2.06-.94 2.06-2.06.94zm-11 1L8.5 8.5l.94-2.06 2.06-.94-2.06-.94L8.5 2.5l-.94 2.06-2.06.94zm10 10l.94 2.06.94-2.06 2.06-.94-2.06-.94-.94-2.06-.94 2.06-2.06.94z\"/><path d=\"M17.41 7.96l-1.37-1.37c-.4-.4-.92-.59-1.43-.59-.52 0-1.04.2-1.43.59L10.3 9.45l-7.72 7.72c-.78.78-.78 2.05 0 2.83L4 21.41c.39.39.9.59 1.41.59.51 0 1.02-.2 1.41-.59l7.78-7.78 2.81-2.81c.8-.78.8-2.07 0-2.86zM5.41 20L4 18.59l7.72-7.72 1.47 1.35L5.41 20z\"/>\n",
              "  </svg>\n",
              "      </button>\n",
              "      \n",
              "  <style>\n",
              "    .colab-df-container {\n",
              "      display:flex;\n",
              "      flex-wrap:wrap;\n",
              "      gap: 12px;\n",
              "    }\n",
              "\n",
              "    .colab-df-convert {\n",
              "      background-color: #E8F0FE;\n",
              "      border: none;\n",
              "      border-radius: 50%;\n",
              "      cursor: pointer;\n",
              "      display: none;\n",
              "      fill: #1967D2;\n",
              "      height: 32px;\n",
              "      padding: 0 0 0 0;\n",
              "      width: 32px;\n",
              "    }\n",
              "\n",
              "    .colab-df-convert:hover {\n",
              "      background-color: #E2EBFA;\n",
              "      box-shadow: 0px 1px 2px rgba(60, 64, 67, 0.3), 0px 1px 3px 1px rgba(60, 64, 67, 0.15);\n",
              "      fill: #174EA6;\n",
              "    }\n",
              "\n",
              "    [theme=dark] .colab-df-convert {\n",
              "      background-color: #3B4455;\n",
              "      fill: #D2E3FC;\n",
              "    }\n",
              "\n",
              "    [theme=dark] .colab-df-convert:hover {\n",
              "      background-color: #434B5C;\n",
              "      box-shadow: 0px 1px 3px 1px rgba(0, 0, 0, 0.15);\n",
              "      filter: drop-shadow(0px 1px 2px rgba(0, 0, 0, 0.3));\n",
              "      fill: #FFFFFF;\n",
              "    }\n",
              "  </style>\n",
              "\n",
              "      <script>\n",
              "        const buttonEl =\n",
              "          document.querySelector('#df-711a40ad-5c58-44a2-99e2-04845cbcb25c button.colab-df-convert');\n",
              "        buttonEl.style.display =\n",
              "          google.colab.kernel.accessAllowed ? 'block' : 'none';\n",
              "\n",
              "        async function convertToInteractive(key) {\n",
              "          const element = document.querySelector('#df-711a40ad-5c58-44a2-99e2-04845cbcb25c');\n",
              "          const dataTable =\n",
              "            await google.colab.kernel.invokeFunction('convertToInteractive',\n",
              "                                                     [key], {});\n",
              "          if (!dataTable) return;\n",
              "\n",
              "          const docLinkHtml = 'Like what you see? Visit the ' +\n",
              "            '<a target=\"_blank\" href=https://colab.research.google.com/notebooks/data_table.ipynb>data table notebook</a>'\n",
              "            + ' to learn more about interactive tables.';\n",
              "          element.innerHTML = '';\n",
              "          dataTable['output_type'] = 'display_data';\n",
              "          await google.colab.output.renderOutput(dataTable, element);\n",
              "          const docLink = document.createElement('div');\n",
              "          docLink.innerHTML = docLinkHtml;\n",
              "          element.appendChild(docLink);\n",
              "        }\n",
              "      </script>\n",
              "    </div>\n",
              "  </div>\n",
              "  "
            ]
          },
          "metadata": {},
          "execution_count": 32
        }
      ]
    },
    {
      "cell_type": "markdown",
      "source": [
        "# Extract XVector"
      ],
      "metadata": {
        "id": "nE6fl2pASo8f"
      }
    },
    {
      "cell_type": "code",
      "source": [
        "from transformers import Wav2Vec2FeatureExtractor, WavLMForXVector\n",
        "import torch\n",
        "\n",
        "sampling_rate = 16000\n",
        "\n",
        "feature_extractor = Wav2Vec2FeatureExtractor.from_pretrained(\"microsoft/wavlm-base-plus-sv\")\n",
        "model = WavLMForXVector.from_pretrained(\"microsoft/wavlm-base-plus-sv\")\n",
        "\n",
        "# audio file is decoded on the fly\n",
        "inputs = feature_extractor(\n",
        "    [d['array'] for d in data], sampling_rate=sampling_rate, return_tensors=\"pt\", padding=True\n",
        ")\n",
        "with torch.no_grad():\n",
        "    embeddings = model(**inputs).embeddings\n",
        "\n",
        "embeddings = torch.nn.functional.normalize(embeddings, dim=-1).cpu()"
      ],
      "metadata": {
        "id": "cVmq0qu1rRxz"
      },
      "execution_count": null,
      "outputs": []
    },
    {
      "cell_type": "code",
      "source": [
        "xvector = pd.DataFrame(embeddings)"
      ],
      "metadata": {
        "id": "_4OnFkJUiCgF"
      },
      "execution_count": 42,
      "outputs": []
    },
    {
      "cell_type": "code",
      "source": [
        "xvector.insert(0, \"accent\", df['accent'])"
      ],
      "metadata": {
        "id": "ozylBj4oidcc"
      },
      "execution_count": 44,
      "outputs": []
    },
    {
      "cell_type": "code",
      "source": [
        "xvector.insert(0, \"name\", df['name'])"
      ],
      "metadata": {
        "id": "PRjuUyZDjzRA"
      },
      "execution_count": 46,
      "outputs": []
    },
    {
      "cell_type": "code",
      "source": [
        "xvector.head()"
      ],
      "metadata": {
        "colab": {
          "base_uri": "https://localhost:8080/",
          "height": 300
        },
        "id": "yM6i8Mijjaex",
        "outputId": "0a5cbac9-ce43-4475-ab9a-b3e0c0c373f4"
      },
      "execution_count": 47,
      "outputs": [
        {
          "output_type": "execute_result",
          "data": {
            "text/plain": [
              "            name    accent         0         1         2         3         4  \\\n",
              "0     other_5_05     other -0.014964 -0.009677 -0.018959 -0.044153 -0.009273   \n",
              "1     other_6_04     other -0.016905 -0.009146 -0.014264 -0.027011 -0.008890   \n",
              "2  mandarin_4_12  mandarin -0.016751 -0.012232 -0.019227 -0.001415 -0.006906   \n",
              "3     other_3_04     other  0.004181 -0.021022 -0.020916  0.027922 -0.016248   \n",
              "4  mandarin_1_04  mandarin -0.013850 -0.012309 -0.013447 -0.010219 -0.006449   \n",
              "\n",
              "          5         6         7  ...       502       503       504       505  \\\n",
              "0  0.005261 -0.018157 -0.010005  ... -0.011188  0.034249 -0.010802 -0.015721   \n",
              "1  0.052541 -0.020361 -0.009612  ... -0.012078  0.039675 -0.006845 -0.010914   \n",
              "2 -0.025997 -0.002823 -0.009455  ... -0.008739  0.006975 -0.012901 -0.016869   \n",
              "3  0.013427 -0.069903  0.020980  ... -0.007837 -0.050664 -0.011444 -0.042355   \n",
              "4 -0.015596 -0.026106 -0.005406  ... -0.010862  0.041343 -0.007407 -0.011498   \n",
              "\n",
              "        506       507       508       509       510       511  \n",
              "0 -0.013811 -0.024664 -0.156463 -0.017286 -0.013521 -0.014602  \n",
              "1 -0.012334 -0.024059 -0.163880 -0.016587 -0.010863 -0.013868  \n",
              "2 -0.014383 -0.026833 -0.126290 -0.017189 -0.013233 -0.014336  \n",
              "3 -0.000816 -0.049087 -0.005530 -0.048243  0.003008 -0.005682  \n",
              "4 -0.009266 -0.023569 -0.181296 -0.015583 -0.008692 -0.012024  \n",
              "\n",
              "[5 rows x 514 columns]"
            ],
            "text/html": [
              "\n",
              "  <div id=\"df-e0f5502a-4e75-421e-917d-f8817911e1f4\">\n",
              "    <div class=\"colab-df-container\">\n",
              "      <div>\n",
              "<style scoped>\n",
              "    .dataframe tbody tr th:only-of-type {\n",
              "        vertical-align: middle;\n",
              "    }\n",
              "\n",
              "    .dataframe tbody tr th {\n",
              "        vertical-align: top;\n",
              "    }\n",
              "\n",
              "    .dataframe thead th {\n",
              "        text-align: right;\n",
              "    }\n",
              "</style>\n",
              "<table border=\"1\" class=\"dataframe\">\n",
              "  <thead>\n",
              "    <tr style=\"text-align: right;\">\n",
              "      <th></th>\n",
              "      <th>name</th>\n",
              "      <th>accent</th>\n",
              "      <th>0</th>\n",
              "      <th>1</th>\n",
              "      <th>2</th>\n",
              "      <th>3</th>\n",
              "      <th>4</th>\n",
              "      <th>5</th>\n",
              "      <th>6</th>\n",
              "      <th>7</th>\n",
              "      <th>...</th>\n",
              "      <th>502</th>\n",
              "      <th>503</th>\n",
              "      <th>504</th>\n",
              "      <th>505</th>\n",
              "      <th>506</th>\n",
              "      <th>507</th>\n",
              "      <th>508</th>\n",
              "      <th>509</th>\n",
              "      <th>510</th>\n",
              "      <th>511</th>\n",
              "    </tr>\n",
              "  </thead>\n",
              "  <tbody>\n",
              "    <tr>\n",
              "      <th>0</th>\n",
              "      <td>other_5_05</td>\n",
              "      <td>other</td>\n",
              "      <td>-0.014964</td>\n",
              "      <td>-0.009677</td>\n",
              "      <td>-0.018959</td>\n",
              "      <td>-0.044153</td>\n",
              "      <td>-0.009273</td>\n",
              "      <td>0.005261</td>\n",
              "      <td>-0.018157</td>\n",
              "      <td>-0.010005</td>\n",
              "      <td>...</td>\n",
              "      <td>-0.011188</td>\n",
              "      <td>0.034249</td>\n",
              "      <td>-0.010802</td>\n",
              "      <td>-0.015721</td>\n",
              "      <td>-0.013811</td>\n",
              "      <td>-0.024664</td>\n",
              "      <td>-0.156463</td>\n",
              "      <td>-0.017286</td>\n",
              "      <td>-0.013521</td>\n",
              "      <td>-0.014602</td>\n",
              "    </tr>\n",
              "    <tr>\n",
              "      <th>1</th>\n",
              "      <td>other_6_04</td>\n",
              "      <td>other</td>\n",
              "      <td>-0.016905</td>\n",
              "      <td>-0.009146</td>\n",
              "      <td>-0.014264</td>\n",
              "      <td>-0.027011</td>\n",
              "      <td>-0.008890</td>\n",
              "      <td>0.052541</td>\n",
              "      <td>-0.020361</td>\n",
              "      <td>-0.009612</td>\n",
              "      <td>...</td>\n",
              "      <td>-0.012078</td>\n",
              "      <td>0.039675</td>\n",
              "      <td>-0.006845</td>\n",
              "      <td>-0.010914</td>\n",
              "      <td>-0.012334</td>\n",
              "      <td>-0.024059</td>\n",
              "      <td>-0.163880</td>\n",
              "      <td>-0.016587</td>\n",
              "      <td>-0.010863</td>\n",
              "      <td>-0.013868</td>\n",
              "    </tr>\n",
              "    <tr>\n",
              "      <th>2</th>\n",
              "      <td>mandarin_4_12</td>\n",
              "      <td>mandarin</td>\n",
              "      <td>-0.016751</td>\n",
              "      <td>-0.012232</td>\n",
              "      <td>-0.019227</td>\n",
              "      <td>-0.001415</td>\n",
              "      <td>-0.006906</td>\n",
              "      <td>-0.025997</td>\n",
              "      <td>-0.002823</td>\n",
              "      <td>-0.009455</td>\n",
              "      <td>...</td>\n",
              "      <td>-0.008739</td>\n",
              "      <td>0.006975</td>\n",
              "      <td>-0.012901</td>\n",
              "      <td>-0.016869</td>\n",
              "      <td>-0.014383</td>\n",
              "      <td>-0.026833</td>\n",
              "      <td>-0.126290</td>\n",
              "      <td>-0.017189</td>\n",
              "      <td>-0.013233</td>\n",
              "      <td>-0.014336</td>\n",
              "    </tr>\n",
              "    <tr>\n",
              "      <th>3</th>\n",
              "      <td>other_3_04</td>\n",
              "      <td>other</td>\n",
              "      <td>0.004181</td>\n",
              "      <td>-0.021022</td>\n",
              "      <td>-0.020916</td>\n",
              "      <td>0.027922</td>\n",
              "      <td>-0.016248</td>\n",
              "      <td>0.013427</td>\n",
              "      <td>-0.069903</td>\n",
              "      <td>0.020980</td>\n",
              "      <td>...</td>\n",
              "      <td>-0.007837</td>\n",
              "      <td>-0.050664</td>\n",
              "      <td>-0.011444</td>\n",
              "      <td>-0.042355</td>\n",
              "      <td>-0.000816</td>\n",
              "      <td>-0.049087</td>\n",
              "      <td>-0.005530</td>\n",
              "      <td>-0.048243</td>\n",
              "      <td>0.003008</td>\n",
              "      <td>-0.005682</td>\n",
              "    </tr>\n",
              "    <tr>\n",
              "      <th>4</th>\n",
              "      <td>mandarin_1_04</td>\n",
              "      <td>mandarin</td>\n",
              "      <td>-0.013850</td>\n",
              "      <td>-0.012309</td>\n",
              "      <td>-0.013447</td>\n",
              "      <td>-0.010219</td>\n",
              "      <td>-0.006449</td>\n",
              "      <td>-0.015596</td>\n",
              "      <td>-0.026106</td>\n",
              "      <td>-0.005406</td>\n",
              "      <td>...</td>\n",
              "      <td>-0.010862</td>\n",
              "      <td>0.041343</td>\n",
              "      <td>-0.007407</td>\n",
              "      <td>-0.011498</td>\n",
              "      <td>-0.009266</td>\n",
              "      <td>-0.023569</td>\n",
              "      <td>-0.181296</td>\n",
              "      <td>-0.015583</td>\n",
              "      <td>-0.008692</td>\n",
              "      <td>-0.012024</td>\n",
              "    </tr>\n",
              "  </tbody>\n",
              "</table>\n",
              "<p>5 rows × 514 columns</p>\n",
              "</div>\n",
              "      <button class=\"colab-df-convert\" onclick=\"convertToInteractive('df-e0f5502a-4e75-421e-917d-f8817911e1f4')\"\n",
              "              title=\"Convert this dataframe to an interactive table.\"\n",
              "              style=\"display:none;\">\n",
              "        \n",
              "  <svg xmlns=\"http://www.w3.org/2000/svg\" height=\"24px\"viewBox=\"0 0 24 24\"\n",
              "       width=\"24px\">\n",
              "    <path d=\"M0 0h24v24H0V0z\" fill=\"none\"/>\n",
              "    <path d=\"M18.56 5.44l.94 2.06.94-2.06 2.06-.94-2.06-.94-.94-2.06-.94 2.06-2.06.94zm-11 1L8.5 8.5l.94-2.06 2.06-.94-2.06-.94L8.5 2.5l-.94 2.06-2.06.94zm10 10l.94 2.06.94-2.06 2.06-.94-2.06-.94-.94-2.06-.94 2.06-2.06.94z\"/><path d=\"M17.41 7.96l-1.37-1.37c-.4-.4-.92-.59-1.43-.59-.52 0-1.04.2-1.43.59L10.3 9.45l-7.72 7.72c-.78.78-.78 2.05 0 2.83L4 21.41c.39.39.9.59 1.41.59.51 0 1.02-.2 1.41-.59l7.78-7.78 2.81-2.81c.8-.78.8-2.07 0-2.86zM5.41 20L4 18.59l7.72-7.72 1.47 1.35L5.41 20z\"/>\n",
              "  </svg>\n",
              "      </button>\n",
              "      \n",
              "  <style>\n",
              "    .colab-df-container {\n",
              "      display:flex;\n",
              "      flex-wrap:wrap;\n",
              "      gap: 12px;\n",
              "    }\n",
              "\n",
              "    .colab-df-convert {\n",
              "      background-color: #E8F0FE;\n",
              "      border: none;\n",
              "      border-radius: 50%;\n",
              "      cursor: pointer;\n",
              "      display: none;\n",
              "      fill: #1967D2;\n",
              "      height: 32px;\n",
              "      padding: 0 0 0 0;\n",
              "      width: 32px;\n",
              "    }\n",
              "\n",
              "    .colab-df-convert:hover {\n",
              "      background-color: #E2EBFA;\n",
              "      box-shadow: 0px 1px 2px rgba(60, 64, 67, 0.3), 0px 1px 3px 1px rgba(60, 64, 67, 0.15);\n",
              "      fill: #174EA6;\n",
              "    }\n",
              "\n",
              "    [theme=dark] .colab-df-convert {\n",
              "      background-color: #3B4455;\n",
              "      fill: #D2E3FC;\n",
              "    }\n",
              "\n",
              "    [theme=dark] .colab-df-convert:hover {\n",
              "      background-color: #434B5C;\n",
              "      box-shadow: 0px 1px 3px 1px rgba(0, 0, 0, 0.15);\n",
              "      filter: drop-shadow(0px 1px 2px rgba(0, 0, 0, 0.3));\n",
              "      fill: #FFFFFF;\n",
              "    }\n",
              "  </style>\n",
              "\n",
              "      <script>\n",
              "        const buttonEl =\n",
              "          document.querySelector('#df-e0f5502a-4e75-421e-917d-f8817911e1f4 button.colab-df-convert');\n",
              "        buttonEl.style.display =\n",
              "          google.colab.kernel.accessAllowed ? 'block' : 'none';\n",
              "\n",
              "        async function convertToInteractive(key) {\n",
              "          const element = document.querySelector('#df-e0f5502a-4e75-421e-917d-f8817911e1f4');\n",
              "          const dataTable =\n",
              "            await google.colab.kernel.invokeFunction('convertToInteractive',\n",
              "                                                     [key], {});\n",
              "          if (!dataTable) return;\n",
              "\n",
              "          const docLinkHtml = 'Like what you see? Visit the ' +\n",
              "            '<a target=\"_blank\" href=https://colab.research.google.com/notebooks/data_table.ipynb>data table notebook</a>'\n",
              "            + ' to learn more about interactive tables.';\n",
              "          element.innerHTML = '';\n",
              "          dataTable['output_type'] = 'display_data';\n",
              "          await google.colab.output.renderOutput(dataTable, element);\n",
              "          const docLink = document.createElement('div');\n",
              "          docLink.innerHTML = docLinkHtml;\n",
              "          element.appendChild(docLink);\n",
              "        }\n",
              "      </script>\n",
              "    </div>\n",
              "  </div>\n",
              "  "
            ]
          },
          "metadata": {},
          "execution_count": 47
        }
      ]
    },
    {
      "cell_type": "code",
      "source": [
        "xvector.to_csv(f\"/content/data/xvector.csv\", sep=\",\", encoding=\"utf-8\", index=False)"
      ],
      "metadata": {
        "id": "nuj8rML5jgU2"
      },
      "execution_count": 48,
      "outputs": []
    },
    {
      "cell_type": "markdown",
      "source": [
        "# Classifiers\n"
      ],
      "metadata": {
        "id": "WzLbSigY7Zuw"
      }
    },
    {
      "cell_type": "markdown",
      "source": [
        "## Prepare Data\n"
      ],
      "metadata": {
        "id": "QpLjOxf9_8sY"
      }
    },
    {
      "cell_type": "code",
      "source": [
        "df = pd.read_csv(\"/content/data/xvector.csv\")\n",
        "df.head()"
      ],
      "metadata": {
        "colab": {
          "base_uri": "https://localhost:8080/",
          "height": 300
        },
        "id": "3e6gMugY9LHu",
        "outputId": "7c1deb22-3827-4045-ed66-bcf2a42003a4"
      },
      "execution_count": 50,
      "outputs": [
        {
          "output_type": "execute_result",
          "data": {
            "text/plain": [
              "            name    accent         0         1         2         3         4  \\\n",
              "0     other_5_05     other -0.014964 -0.009677 -0.018959 -0.044153 -0.009273   \n",
              "1     other_6_04     other -0.016905 -0.009146 -0.014264 -0.027011 -0.008890   \n",
              "2  mandarin_4_12  mandarin -0.016751 -0.012232 -0.019227 -0.001415 -0.006906   \n",
              "3     other_3_04     other  0.004181 -0.021022 -0.020916  0.027922 -0.016248   \n",
              "4  mandarin_1_04  mandarin -0.013850 -0.012309 -0.013447 -0.010219 -0.006449   \n",
              "\n",
              "          5         6         7  ...       502       503       504       505  \\\n",
              "0  0.005261 -0.018157 -0.010005  ... -0.011188  0.034249 -0.010802 -0.015721   \n",
              "1  0.052541 -0.020361 -0.009612  ... -0.012078  0.039675 -0.006845 -0.010914   \n",
              "2 -0.025997 -0.002823 -0.009455  ... -0.008739  0.006975 -0.012901 -0.016869   \n",
              "3  0.013427 -0.069903  0.020980  ... -0.007837 -0.050664 -0.011444 -0.042355   \n",
              "4 -0.015596 -0.026106 -0.005406  ... -0.010862  0.041343 -0.007407 -0.011498   \n",
              "\n",
              "        506       507       508       509       510       511  \n",
              "0 -0.013811 -0.024664 -0.156463 -0.017286 -0.013521 -0.014602  \n",
              "1 -0.012334 -0.024059 -0.163880 -0.016587 -0.010863 -0.013868  \n",
              "2 -0.014383 -0.026833 -0.126290 -0.017189 -0.013233 -0.014336  \n",
              "3 -0.000816 -0.049087 -0.005530 -0.048243  0.003008 -0.005682  \n",
              "4 -0.009266 -0.023569 -0.181296 -0.015583 -0.008692 -0.012024  \n",
              "\n",
              "[5 rows x 514 columns]"
            ],
            "text/html": [
              "\n",
              "  <div id=\"df-c6a0d2f1-730d-4a71-9fbc-a6f4681a3778\">\n",
              "    <div class=\"colab-df-container\">\n",
              "      <div>\n",
              "<style scoped>\n",
              "    .dataframe tbody tr th:only-of-type {\n",
              "        vertical-align: middle;\n",
              "    }\n",
              "\n",
              "    .dataframe tbody tr th {\n",
              "        vertical-align: top;\n",
              "    }\n",
              "\n",
              "    .dataframe thead th {\n",
              "        text-align: right;\n",
              "    }\n",
              "</style>\n",
              "<table border=\"1\" class=\"dataframe\">\n",
              "  <thead>\n",
              "    <tr style=\"text-align: right;\">\n",
              "      <th></th>\n",
              "      <th>name</th>\n",
              "      <th>accent</th>\n",
              "      <th>0</th>\n",
              "      <th>1</th>\n",
              "      <th>2</th>\n",
              "      <th>3</th>\n",
              "      <th>4</th>\n",
              "      <th>5</th>\n",
              "      <th>6</th>\n",
              "      <th>7</th>\n",
              "      <th>...</th>\n",
              "      <th>502</th>\n",
              "      <th>503</th>\n",
              "      <th>504</th>\n",
              "      <th>505</th>\n",
              "      <th>506</th>\n",
              "      <th>507</th>\n",
              "      <th>508</th>\n",
              "      <th>509</th>\n",
              "      <th>510</th>\n",
              "      <th>511</th>\n",
              "    </tr>\n",
              "  </thead>\n",
              "  <tbody>\n",
              "    <tr>\n",
              "      <th>0</th>\n",
              "      <td>other_5_05</td>\n",
              "      <td>other</td>\n",
              "      <td>-0.014964</td>\n",
              "      <td>-0.009677</td>\n",
              "      <td>-0.018959</td>\n",
              "      <td>-0.044153</td>\n",
              "      <td>-0.009273</td>\n",
              "      <td>0.005261</td>\n",
              "      <td>-0.018157</td>\n",
              "      <td>-0.010005</td>\n",
              "      <td>...</td>\n",
              "      <td>-0.011188</td>\n",
              "      <td>0.034249</td>\n",
              "      <td>-0.010802</td>\n",
              "      <td>-0.015721</td>\n",
              "      <td>-0.013811</td>\n",
              "      <td>-0.024664</td>\n",
              "      <td>-0.156463</td>\n",
              "      <td>-0.017286</td>\n",
              "      <td>-0.013521</td>\n",
              "      <td>-0.014602</td>\n",
              "    </tr>\n",
              "    <tr>\n",
              "      <th>1</th>\n",
              "      <td>other_6_04</td>\n",
              "      <td>other</td>\n",
              "      <td>-0.016905</td>\n",
              "      <td>-0.009146</td>\n",
              "      <td>-0.014264</td>\n",
              "      <td>-0.027011</td>\n",
              "      <td>-0.008890</td>\n",
              "      <td>0.052541</td>\n",
              "      <td>-0.020361</td>\n",
              "      <td>-0.009612</td>\n",
              "      <td>...</td>\n",
              "      <td>-0.012078</td>\n",
              "      <td>0.039675</td>\n",
              "      <td>-0.006845</td>\n",
              "      <td>-0.010914</td>\n",
              "      <td>-0.012334</td>\n",
              "      <td>-0.024059</td>\n",
              "      <td>-0.163880</td>\n",
              "      <td>-0.016587</td>\n",
              "      <td>-0.010863</td>\n",
              "      <td>-0.013868</td>\n",
              "    </tr>\n",
              "    <tr>\n",
              "      <th>2</th>\n",
              "      <td>mandarin_4_12</td>\n",
              "      <td>mandarin</td>\n",
              "      <td>-0.016751</td>\n",
              "      <td>-0.012232</td>\n",
              "      <td>-0.019227</td>\n",
              "      <td>-0.001415</td>\n",
              "      <td>-0.006906</td>\n",
              "      <td>-0.025997</td>\n",
              "      <td>-0.002823</td>\n",
              "      <td>-0.009455</td>\n",
              "      <td>...</td>\n",
              "      <td>-0.008739</td>\n",
              "      <td>0.006975</td>\n",
              "      <td>-0.012901</td>\n",
              "      <td>-0.016869</td>\n",
              "      <td>-0.014383</td>\n",
              "      <td>-0.026833</td>\n",
              "      <td>-0.126290</td>\n",
              "      <td>-0.017189</td>\n",
              "      <td>-0.013233</td>\n",
              "      <td>-0.014336</td>\n",
              "    </tr>\n",
              "    <tr>\n",
              "      <th>3</th>\n",
              "      <td>other_3_04</td>\n",
              "      <td>other</td>\n",
              "      <td>0.004181</td>\n",
              "      <td>-0.021022</td>\n",
              "      <td>-0.020916</td>\n",
              "      <td>0.027922</td>\n",
              "      <td>-0.016248</td>\n",
              "      <td>0.013427</td>\n",
              "      <td>-0.069903</td>\n",
              "      <td>0.020980</td>\n",
              "      <td>...</td>\n",
              "      <td>-0.007837</td>\n",
              "      <td>-0.050664</td>\n",
              "      <td>-0.011444</td>\n",
              "      <td>-0.042355</td>\n",
              "      <td>-0.000816</td>\n",
              "      <td>-0.049087</td>\n",
              "      <td>-0.005530</td>\n",
              "      <td>-0.048243</td>\n",
              "      <td>0.003008</td>\n",
              "      <td>-0.005682</td>\n",
              "    </tr>\n",
              "    <tr>\n",
              "      <th>4</th>\n",
              "      <td>mandarin_1_04</td>\n",
              "      <td>mandarin</td>\n",
              "      <td>-0.013850</td>\n",
              "      <td>-0.012309</td>\n",
              "      <td>-0.013447</td>\n",
              "      <td>-0.010219</td>\n",
              "      <td>-0.006449</td>\n",
              "      <td>-0.015596</td>\n",
              "      <td>-0.026106</td>\n",
              "      <td>-0.005406</td>\n",
              "      <td>...</td>\n",
              "      <td>-0.010862</td>\n",
              "      <td>0.041343</td>\n",
              "      <td>-0.007407</td>\n",
              "      <td>-0.011498</td>\n",
              "      <td>-0.009266</td>\n",
              "      <td>-0.023569</td>\n",
              "      <td>-0.181296</td>\n",
              "      <td>-0.015583</td>\n",
              "      <td>-0.008692</td>\n",
              "      <td>-0.012024</td>\n",
              "    </tr>\n",
              "  </tbody>\n",
              "</table>\n",
              "<p>5 rows × 514 columns</p>\n",
              "</div>\n",
              "      <button class=\"colab-df-convert\" onclick=\"convertToInteractive('df-c6a0d2f1-730d-4a71-9fbc-a6f4681a3778')\"\n",
              "              title=\"Convert this dataframe to an interactive table.\"\n",
              "              style=\"display:none;\">\n",
              "        \n",
              "  <svg xmlns=\"http://www.w3.org/2000/svg\" height=\"24px\"viewBox=\"0 0 24 24\"\n",
              "       width=\"24px\">\n",
              "    <path d=\"M0 0h24v24H0V0z\" fill=\"none\"/>\n",
              "    <path d=\"M18.56 5.44l.94 2.06.94-2.06 2.06-.94-2.06-.94-.94-2.06-.94 2.06-2.06.94zm-11 1L8.5 8.5l.94-2.06 2.06-.94-2.06-.94L8.5 2.5l-.94 2.06-2.06.94zm10 10l.94 2.06.94-2.06 2.06-.94-2.06-.94-.94-2.06-.94 2.06-2.06.94z\"/><path d=\"M17.41 7.96l-1.37-1.37c-.4-.4-.92-.59-1.43-.59-.52 0-1.04.2-1.43.59L10.3 9.45l-7.72 7.72c-.78.78-.78 2.05 0 2.83L4 21.41c.39.39.9.59 1.41.59.51 0 1.02-.2 1.41-.59l7.78-7.78 2.81-2.81c.8-.78.8-2.07 0-2.86zM5.41 20L4 18.59l7.72-7.72 1.47 1.35L5.41 20z\"/>\n",
              "  </svg>\n",
              "      </button>\n",
              "      \n",
              "  <style>\n",
              "    .colab-df-container {\n",
              "      display:flex;\n",
              "      flex-wrap:wrap;\n",
              "      gap: 12px;\n",
              "    }\n",
              "\n",
              "    .colab-df-convert {\n",
              "      background-color: #E8F0FE;\n",
              "      border: none;\n",
              "      border-radius: 50%;\n",
              "      cursor: pointer;\n",
              "      display: none;\n",
              "      fill: #1967D2;\n",
              "      height: 32px;\n",
              "      padding: 0 0 0 0;\n",
              "      width: 32px;\n",
              "    }\n",
              "\n",
              "    .colab-df-convert:hover {\n",
              "      background-color: #E2EBFA;\n",
              "      box-shadow: 0px 1px 2px rgba(60, 64, 67, 0.3), 0px 1px 3px 1px rgba(60, 64, 67, 0.15);\n",
              "      fill: #174EA6;\n",
              "    }\n",
              "\n",
              "    [theme=dark] .colab-df-convert {\n",
              "      background-color: #3B4455;\n",
              "      fill: #D2E3FC;\n",
              "    }\n",
              "\n",
              "    [theme=dark] .colab-df-convert:hover {\n",
              "      background-color: #434B5C;\n",
              "      box-shadow: 0px 1px 3px 1px rgba(0, 0, 0, 0.15);\n",
              "      filter: drop-shadow(0px 1px 2px rgba(0, 0, 0, 0.3));\n",
              "      fill: #FFFFFF;\n",
              "    }\n",
              "  </style>\n",
              "\n",
              "      <script>\n",
              "        const buttonEl =\n",
              "          document.querySelector('#df-c6a0d2f1-730d-4a71-9fbc-a6f4681a3778 button.colab-df-convert');\n",
              "        buttonEl.style.display =\n",
              "          google.colab.kernel.accessAllowed ? 'block' : 'none';\n",
              "\n",
              "        async function convertToInteractive(key) {\n",
              "          const element = document.querySelector('#df-c6a0d2f1-730d-4a71-9fbc-a6f4681a3778');\n",
              "          const dataTable =\n",
              "            await google.colab.kernel.invokeFunction('convertToInteractive',\n",
              "                                                     [key], {});\n",
              "          if (!dataTable) return;\n",
              "\n",
              "          const docLinkHtml = 'Like what you see? Visit the ' +\n",
              "            '<a target=\"_blank\" href=https://colab.research.google.com/notebooks/data_table.ipynb>data table notebook</a>'\n",
              "            + ' to learn more about interactive tables.';\n",
              "          element.innerHTML = '';\n",
              "          dataTable['output_type'] = 'display_data';\n",
              "          await google.colab.output.renderOutput(dataTable, element);\n",
              "          const docLink = document.createElement('div');\n",
              "          docLink.innerHTML = docLinkHtml;\n",
              "          element.appendChild(docLink);\n",
              "        }\n",
              "      </script>\n",
              "    </div>\n",
              "  </div>\n",
              "  "
            ]
          },
          "metadata": {},
          "execution_count": 50
        }
      ]
    },
    {
      "cell_type": "code",
      "source": [
        "X = df.drop(['accent', 'name'], axis=1)\n",
        "y = df['accent']"
      ],
      "metadata": {
        "id": "lOMEAkmX9XiN"
      },
      "execution_count": 53,
      "outputs": []
    },
    {
      "cell_type": "code",
      "source": [
        "from sklearn.model_selection import train_test_split\n",
        "\n",
        "X_train, X_test, y_train, y_test = train_test_split(X, y, test_size = 0.2, random_state = 0)"
      ],
      "metadata": {
        "id": "t6T958ZE7hYk"
      },
      "execution_count": 65,
      "outputs": []
    },
    {
      "cell_type": "markdown",
      "source": [
        "## Naive Bayes Classifier (Gaussian)"
      ],
      "metadata": {
        "id": "FYX_002eAFbL"
      }
    },
    {
      "cell_type": "code",
      "source": [
        "from sklearn.naive_bayes import GaussianNB\n",
        "# Training\n",
        "gnb = GaussianNB()\n",
        "\n",
        "gnb.fit(X_train, y_train)"
      ],
      "metadata": {
        "colab": {
          "base_uri": "https://localhost:8080/"
        },
        "id": "8CR-gE6R9sn2",
        "outputId": "0e6f53a7-5813-46fe-85ea-da6f9d5573c7"
      },
      "execution_count": 72,
      "outputs": [
        {
          "output_type": "execute_result",
          "data": {
            "text/plain": [
              "GaussianNB()"
            ]
          },
          "metadata": {},
          "execution_count": 72
        }
      ]
    },
    {
      "cell_type": "code",
      "source": [
        "# Prediction\n",
        "y_pred = gnb.predict(X_test)"
      ],
      "metadata": {
        "id": "ShurlkOZ9zcb"
      },
      "execution_count": 67,
      "outputs": []
    },
    {
      "cell_type": "code",
      "source": [
        "from sklearn.metrics import accuracy_score\n",
        "\n",
        "print('Model accuracy score: {0:0.4f}'. format(accuracy_score(y_test, y_pred)))"
      ],
      "metadata": {
        "colab": {
          "base_uri": "https://localhost:8080/"
        },
        "id": "pg263kze9yga",
        "outputId": "66313fea-cef7-4ffb-88f2-e47d6cc43772"
      },
      "execution_count": 68,
      "outputs": [
        {
          "output_type": "stream",
          "name": "stdout",
          "text": [
            "Model accuracy score: 0.8621\n"
          ]
        }
      ]
    },
    {
      "cell_type": "code",
      "source": [
        "from sklearn.metrics import confusion_matrix\n",
        "\n",
        "cm = confusion_matrix(y_test, y_pred)\n",
        "\n",
        "import seaborn as sns\n",
        "cm_matrix = pd.DataFrame(data=cm, columns=['Actual Manderin', 'Actual Other'], \n",
        "                                 index=['Predict Mandarin', 'Predict Other'])\n",
        "\n",
        "sns.heatmap(cm_matrix, annot=True, fmt='d', cmap='YlGnBu')"
      ],
      "metadata": {
        "colab": {
          "base_uri": "https://localhost:8080/",
          "height": 283
        },
        "id": "Yp-i7k2T-S0J",
        "outputId": "e3ac98eb-47d2-45ae-b7aa-63488a457683"
      },
      "execution_count": 70,
      "outputs": [
        {
          "output_type": "execute_result",
          "data": {
            "text/plain": [
              "<matplotlib.axes._subplots.AxesSubplot at 0x7ff255544eb0>"
            ]
          },
          "metadata": {},
          "execution_count": 70
        },
        {
          "output_type": "display_data",
          "data": {
            "text/plain": [
              "<Figure size 432x288 with 2 Axes>"
            ],
            "image/png": "[encoded data removed]"
          },
          "metadata": {
            "needs_background": "light"
          }
        }
      ]
    },
    {
      "cell_type": "markdown",
      "source": [
        "## Support Vector Manchine"
      ],
      "metadata": {
        "id": "Y3lkS07AAlx3"
      }
    },
    {
      "cell_type": "code",
      "source": [
        "from sklearn import svm\n",
        "\n",
        "clf = svm.SVC(kernel='linear')\n",
        "clf.fit(X_train, y_train)"
      ],
      "metadata": {
        "colab": {
          "base_uri": "https://localhost:8080/"
        },
        "id": "KVoJsfn_AqEw",
        "outputId": "9033a568-df86-4cb1-e170-2ad7d1a84fd7"
      },
      "execution_count": 73,
      "outputs": [
        {
          "output_type": "execute_result",
          "data": {
            "text/plain": [
              "SVC(kernel='linear')"
            ]
          },
          "metadata": {},
          "execution_count": 73
        }
      ]
    },
    {
      "cell_type": "code",
      "source": [
        "y_pred = clf.predict(X_test)"
      ],
      "metadata": {
        "id": "bYaStOegA3Pi"
      },
      "execution_count": 74,
      "outputs": []
    },
    {
      "cell_type": "code",
      "source": [
        "from sklearn.metrics import accuracy_score\n",
        "\n",
        "print('Model accuracy score: {0:0.4f}'. format(accuracy_score(y_test, y_pred)))"
      ],
      "metadata": {
        "colab": {
          "base_uri": "https://localhost:8080/"
        },
        "outputId": "aa54e948-3f0e-48fa-af0b-25b0c0204f62",
        "id": "Mse8uyNUA9Vk"
      },
      "execution_count": 75,
      "outputs": [
        {
          "output_type": "stream",
          "name": "stdout",
          "text": [
            "Model accuracy score: 1.0000\n"
          ]
        }
      ]
    },
    {
      "cell_type": "code",
      "source": [
        "from sklearn.metrics import confusion_matrix\n",
        "\n",
        "cm = confusion_matrix(y_test, y_pred)\n",
        "\n",
        "import seaborn as sns\n",
        "cm_matrix = pd.DataFrame(data=cm, columns=['Actual Manderin', 'Actual Other'], \n",
        "                                 index=['Predict Mandarin', 'Predict Other'])\n",
        "\n",
        "sns.heatmap(cm_matrix, annot=True, fmt='d', cmap='YlGnBu')"
      ],
      "metadata": {
        "colab": {
          "base_uri": "https://localhost:8080/",
          "height": 283
        },
        "outputId": "c9ee57c3-0700-4ad8-aae7-3f403d69c4bd",
        "id": "mjPGtdylA7u8"
      },
      "execution_count": 76,
      "outputs": [
        {
          "output_type": "execute_result",
          "data": {
            "text/plain": [
              "<matplotlib.axes._subplots.AxesSubplot at 0x7ff25cb6d8b0>"
            ]
          },
          "metadata": {},
          "execution_count": 76
        },
        {
          "output_type": "display_data",
          "data": {
            "text/plain": [
              "<Figure size 432x288 with 2 Axes>"
            ],
            "image/png": "[encoded data removed]"
          },
          "metadata": {
            "needs_background": "light"
          }
        }
      ]
    }
  ]
}